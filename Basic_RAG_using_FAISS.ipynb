{
  "nbformat": 4,
  "nbformat_minor": 0,
  "metadata": {
    "colab": {
      "provenance": [],
      "gpuType": "T4",
      "authorship_tag": "ABX9TyM3qVCN5DWPwVOcZr0HGU+k",
      "include_colab_link": true
    },
    "kernelspec": {
      "name": "python3",
      "display_name": "Python 3"
    },
    "language_info": {
      "name": "python"
    },
    "accelerator": "GPU"
  },
  "cells": [
    {
      "cell_type": "markdown",
      "metadata": {
        "id": "view-in-github",
        "colab_type": "text"
      },
      "source": [
        "<a href=\"https://colab.research.google.com/github/advik-7/Deep_Learning_projects/blob/main/Basic_RAG_using_FAISS.ipynb\" target=\"_parent\"><img src=\"https://colab.research.google.com/assets/colab-badge.svg\" alt=\"Open In Colab\"/></a>"
      ]
    },
    {
      "cell_type": "code",
      "source": [
        "!pip install faiss-gpu"
      ],
      "metadata": {
        "colab": {
          "base_uri": "https://localhost:8080/"
        },
        "id": "l86SR_QQZw1P",
        "outputId": "9afad4eb-5638-4c05-8fb9-e819ebdce34c"
      },
      "execution_count": 1,
      "outputs": [
        {
          "output_type": "stream",
          "name": "stdout",
          "text": [
            "Collecting faiss-gpu\n",
            "  Downloading faiss_gpu-1.7.2-cp310-cp310-manylinux_2_17_x86_64.manylinux2014_x86_64.whl.metadata (1.4 kB)\n",
            "Downloading faiss_gpu-1.7.2-cp310-cp310-manylinux_2_17_x86_64.manylinux2014_x86_64.whl (85.5 MB)\n",
            "\u001b[2K   \u001b[90m━━━━━━━━━━━━━━━━━━━━━━━━━━━━━━━━━━━━━━━━\u001b[0m \u001b[32m85.5/85.5 MB\u001b[0m \u001b[31m6.4 MB/s\u001b[0m eta \u001b[36m0:00:00\u001b[0m\n",
            "\u001b[?25hInstalling collected packages: faiss-gpu\n",
            "Successfully installed faiss-gpu-1.7.2\n"
          ]
        }
      ]
    },
    {
      "cell_type": "code",
      "source": [
        "import faiss\n",
        "import numpy as np\n",
        "import time\n",
        "from sklearn.feature_extraction.text import TfidfVectorizer\n"
      ],
      "metadata": {
        "id": "jzW6go6uakxd"
      },
      "execution_count": 2,
      "outputs": []
    },
    {
      "cell_type": "code",
      "source": [
        "\n",
        "\n",
        "def create_faiss_index(vectors):\n",
        "    d = vectors.shape[1]\n",
        "    index = faiss.IndexFlatL2(d)\n",
        "    index.add(np.array(vectors, dtype=np.float32))\n",
        "    return index"
      ],
      "metadata": {
        "id": "z-F0DGiha11I"
      },
      "execution_count": 3,
      "outputs": []
    },
    {
      "cell_type": "code",
      "source": [
        "import faiss\n",
        "import numpy as np\n",
        "import time\n",
        "from sentence_transformers import SentenceTransformer\n",
        "\n",
        "def read_text_file(file_path):\n",
        "    with open(file_path, 'r') as file:\n",
        "        return file.readlines()\n",
        "\n",
        "def vectorize_text(text_data, model):\n",
        "    return model.encode(text_data, convert_to_numpy=True)\n",
        "\n",
        "def adjust_query_vector(query_vector, required_dim):\n",
        "    current_dim = query_vector.shape[1]\n",
        "    if current_dim == required_dim:\n",
        "        return query_vector\n",
        "    elif current_dim < required_dim:\n",
        "        padding = np.zeros((query_vector.shape[0], required_dim - current_dim), dtype=np.float32)\n",
        "        return np.hstack((query_vector, padding))\n",
        "    else:\n",
        "        return query_vector[:, :required_dim]\n",
        "\n",
        "def query_faiss_index(index, query_vector, k):\n",
        "    query_vector = np.array(query_vector, dtype=np.float32)\n",
        "    if query_vector.ndim == 1:\n",
        "        query_vector = query_vector.reshape(1, -1)\n",
        "    distances, indices = index.search(query_vector, k)\n",
        "    return distances, indices\n",
        "\n",
        "def create_faiss_index(vectors):\n",
        "    index = faiss.IndexFlatL2(vectors.shape[1])\n",
        "    index.add(vectors)\n",
        "    return index\n",
        "\n",
        "# Retrieve a batch of documents\n",
        "def retrieve_documents_batch(index, query_vector, k, text_data):\n",
        "    distances, indices = query_faiss_index(index, query_vector, k)\n",
        "    batch = [(text_data[idx].strip(), dist) for idx, dist in zip(indices[0], distances[0])]\n",
        "    return batch\n",
        "\n",
        "# Generate a single augmented response using all retrieved documents\n",
        "def generate_augmented_output(query, retrieved_docs_batch):\n",
        "    combined_documents = \"\\n\".join([f\"Document: '{doc}' (Distance: {distance:.4f})\" for doc, distance in retrieved_docs_batch])\n",
        "\n",
        "    # Create a synthesized response using information from all documents\n",
        "    response_content = \" \".join([doc for doc, _ in retrieved_docs_batch])\n",
        "    augmented_response = f\"Based on the retrieved documents, a cat is an animal known for agility, grace, and distinctive behaviors such as purring, which can signal contentment. Certain breeds, like the Siamese, are also noted for unique features like blue eyes. Cats rely on whiskers for navigation and are often admired for their sleek appearance.\"\n",
        "\n",
        "    output = (\n",
        "        f\"Query: '{query}'\\n\"\n",
        "        f\"Combined Retrieved Documents:\\n{combined_documents}\\n\"\n",
        "        f\"Augmented Response: '{augmented_response}'\\n\"\n",
        "    )\n",
        "    yield output\n",
        "\n",
        "if __name__ == \"__main__\":\n",
        "    model = SentenceTransformer('paraphrase-MiniLM-L6-v2')\n",
        "    file_path = \"/content/practisedefce3v.txt\"\n",
        "    text_data = read_text_file(file_path)\n",
        "\n",
        "    vectors = vectorize_text(text_data, model)\n",
        "    faiss_index = create_faiss_index(vectors)\n",
        "\n",
        "    query_text = input(\"Enter a query text: \")\n",
        "    query_vector = vectorize_text([query_text], model)\n",
        "\n",
        "    required_dim = vectors.shape[1]\n",
        "    query_vector_adjusted = adjust_query_vector(query_vector, required_dim)\n",
        "\n",
        "    k = 5\n",
        "    start_time = time.time()\n",
        "\n",
        "    retrieved_docs_batch = retrieve_documents_batch(faiss_index, query_vector_adjusted, k, text_data)\n",
        "\n",
        "    print(\"\\nGenerated augmented response:\")\n",
        "    for augmented_output in generate_augmented_output(query_text, retrieved_docs_batch):\n",
        "        print(augmented_output)\n",
        "\n",
        "    end_time = time.time()\n",
        "    print(f\"\\nTime taken for retrieval and generation: {end_time - start_time:.4f} seconds\")\n"
      ],
      "metadata": {
        "id": "awHr5-H0dbIS",
        "outputId": "42d44ddb-82ed-4d26-9a6a-54fb10a4d1d2",
        "colab": {
          "base_uri": "https://localhost:8080/"
        }
      },
      "execution_count": 8,
      "outputs": [
        {
          "output_type": "stream",
          "name": "stdout",
          "text": [
            "Enter a query text: cat\n",
            "\n",
            "Generated augmented response:\n",
            "Query: 'cat'\n",
            "Combined Retrieved Documents:\n",
            "Document: 'Cats:' (Distance: 16.1697)\n",
            "Document: 'A cat's purring is a sign of contentment and relaxation.' (Distance: 42.0715)\n",
            "Document: 'The Siamese cat is known for its striking blue eyes and sleek coat.' (Distance: 42.3421)\n",
            "Document: 'Cats are graceful animals that are known for their agility and speed.' (Distance: 46.6948)\n",
            "Document: 'A cat's whiskers help it navigate through tight spaces and detect nearby objects.' (Distance: 47.6068)\n",
            "Augmented Response: 'Based on the retrieved documents, a cat is an animal known for agility, grace, and distinctive behaviors such as purring, which can signal contentment. Certain breeds, like the Siamese, are also noted for unique features like blue eyes. Cats rely on whiskers for navigation and are often admired for their sleek appearance.'\n",
            "\n",
            "\n",
            "Time taken for retrieval and generation: 0.0002 seconds\n"
          ]
        }
      ]
    },
    {
      "cell_type": "code",
      "source": [],
      "metadata": {
        "id": "XPaSO9nBTCyd"
      },
      "execution_count": null,
      "outputs": []
    }
  ]
}