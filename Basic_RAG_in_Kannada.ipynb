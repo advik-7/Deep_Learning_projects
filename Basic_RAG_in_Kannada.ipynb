{
  "nbformat": 4,
  "nbformat_minor": 0,
  "metadata": {
    "colab": {
      "provenance": [],
      "gpuType": "T4",
      "authorship_tag": "ABX9TyPvs+3H6PNNO+xM4ekW5rGE",
      "include_colab_link": true
    },
    "kernelspec": {
      "name": "python3",
      "display_name": "Python 3"
    },
    "language_info": {
      "name": "python"
    },
    "accelerator": "GPU"
  },
  "cells": [
    {
      "cell_type": "markdown",
      "metadata": {
        "id": "view-in-github",
        "colab_type": "text"
      },
      "source": [
        "<a href=\"https://colab.research.google.com/github/advik-7/Deep_Learning_projects/blob/main/Basic_RAG_in_Kannada.ipynb\" target=\"_parent\"><img src=\"https://colab.research.google.com/assets/colab-badge.svg\" alt=\"Open In Colab\"/></a>"
      ]
    },
    {
      "cell_type": "code",
      "source": [
        "!pip install faiss-gpu"
      ],
      "metadata": {
        "colab": {
          "base_uri": "https://localhost:8080/"
        },
        "id": "UvezcrANV6iM",
        "outputId": "03b3c03a-49e5-428e-8392-63b76085e04f"
      },
      "execution_count": 1,
      "outputs": [
        {
          "output_type": "stream",
          "name": "stdout",
          "text": [
            "Collecting faiss-gpu\n",
            "  Downloading faiss_gpu-1.7.2-cp310-cp310-manylinux_2_17_x86_64.manylinux2014_x86_64.whl.metadata (1.4 kB)\n",
            "Downloading faiss_gpu-1.7.2-cp310-cp310-manylinux_2_17_x86_64.manylinux2014_x86_64.whl (85.5 MB)\n",
            "\u001b[2K   \u001b[90m━━━━━━━━━━━━━━━━━━━━━━━━━━━━━━━━━━━━━━━━\u001b[0m \u001b[32m85.5/85.5 MB\u001b[0m \u001b[31m7.9 MB/s\u001b[0m eta \u001b[36m0:00:00\u001b[0m\n",
            "\u001b[?25hInstalling collected packages: faiss-gpu\n",
            "Successfully installed faiss-gpu-1.7.2\n"
          ]
        }
      ]
    },
    {
      "cell_type": "code",
      "execution_count": 3,
      "metadata": {
        "colab": {
          "base_uri": "https://localhost:8080/"
        },
        "id": "c3R4YzXvVplc",
        "outputId": "9c7f96e5-d807-480b-9635-5f085a9e170d"
      },
      "outputs": [
        {
          "output_type": "stream",
          "name": "stderr",
          "text": [
            "WARNING:sentence_transformers.SentenceTransformer:No sentence-transformers model found with name bert-base-multilingual-cased. Creating a new one with mean pooling.\n"
          ]
        },
        {
          "output_type": "stream",
          "name": "stdout",
          "text": [
            "Enter a query text in Kannada: ಸಂಗೀತ\n",
            "\n",
            "Generated augmented response:\n",
            "Query: 'ಸಂಗೀತ'\n",
            "Combined Retrieved Documents:\n",
            "Document: 'ಸಂಗೀತವು ಭಾವನೆಗಳನ್ನು ಮೂಡಿಸುತ್ತದೆ.' (Distance: 135.3819)\n",
            "Document: 'ಬಾಹ್ಯಾಕಾಶದಲ್ಲಿ ವೈಜ್ಞಾನಿಕ ಮಹತ್ವದ ಹೆಜ್ಜೆಗಳು.' (Distance: 140.8398)\n",
            "Document: 'ಸಂಗೀತವು ಭಾವನೆಗಳಿಗೆ ಜೀವ ಕೊಡುತ್ತದೆ.' (Distance: 146.2629)\n",
            "Document: 'ಸಾರಿಗೆ ಸುರಕ್ಷತೆಯನ್ನು ಹೆಚ್ಚಿಸುತ್ತದೆ.' (Distance: 146.5990)\n",
            "Document: 'ಕೃಷಿ ನಮ್ಮ ಜೀವಿತಾಧಾರ.' (Distance: 146.9215)\n",
            "Augmented Response: 'Based on the retrieved documents, the information provided suggests: ಸಂಗೀತವು ಭಾವನೆಗಳನ್ನು ಮೂಡಿಸುತ್ತದೆ. ಬಾಹ್ಯಾಕಾಶದಲ್ಲಿ ವೈಜ್ಞಾನಿಕ ಮಹತ್ವದ ಹೆಜ್ಜೆಗಳು. ಸಂಗೀತವು ಭಾವನೆಗಳಿಗೆ ಜೀವ ಕೊಡುತ್ತದೆ. ಸಾರಿಗೆ ಸುರಕ್ಷತೆಯನ್ನು ಹೆಚ್ಚಿಸುತ್ತದೆ. ಕೃಷಿ ನಮ್ಮ ಜೀವಿತಾಧಾರ.'\n",
            "\n",
            "\n",
            "Time taken for retrieval and generation: 0.0003 seconds\n"
          ]
        }
      ],
      "source": [
        "import faiss\n",
        "import numpy as np\n",
        "import time\n",
        "from sentence_transformers import SentenceTransformer\n",
        "\n",
        "def read_text_file(file_path):\n",
        "    with open(file_path, 'r', encoding='utf-8') as file:\n",
        "        return file.readlines()\n",
        "\n",
        "def vectorize_text(text_data, model):\n",
        "    return model.encode(text_data, convert_to_numpy=True)\n",
        "\n",
        "def create_faiss_index(vectors):\n",
        "    index = faiss.IndexFlatL2(vectors.shape[1])\n",
        "    index.add(vectors)\n",
        "    return index\n",
        "\n",
        "def adjust_query_vector(query_vector, required_dim):\n",
        "    current_dim = query_vector.shape[1]\n",
        "    if current_dim == required_dim:\n",
        "        return query_vector\n",
        "    elif current_dim < required_dim:\n",
        "        padding = np.zeros((query_vector.shape[0], required_dim - current_dim), dtype=np.float32)\n",
        "        return np.hstack((query_vector, padding))\n",
        "    else:\n",
        "        return query_vector[:, :required_dim]\n",
        "\n",
        "def query_faiss_index(index, query_vector, k):\n",
        "    query_vector = np.array(query_vector, dtype=np.float32)\n",
        "    if query_vector.ndim == 1:\n",
        "        query_vector = query_vector.reshape(1, -1)\n",
        "    distances, indices = index.search(query_vector, k)\n",
        "    return distances, indices\n",
        "\n",
        "def retrieve_documents_batch(index, query_vector, k, text_data):\n",
        "    distances, indices = query_faiss_index(index, query_vector, k)\n",
        "    batch = [(text_data[idx].strip(), dist) for idx, dist in zip(indices[0], distances[0])]\n",
        "    return batch\n",
        "\n",
        "def generate_augmented_output(query, retrieved_docs_batch):\n",
        "    combined_documents = \"\\n\".join([f\"Document: '{doc}' (Distance: {distance:.4f})\" for doc, distance in retrieved_docs_batch])\n",
        "    response_content = \" \".join([doc for doc, _ in retrieved_docs_batch])\n",
        "    augmented_response = f\"Based on the retrieved documents, the information provided suggests: {response_content}\"\n",
        "    output = (\n",
        "        f\"Query: '{query}'\\n\"\n",
        "        f\"Combined Retrieved Documents:\\n{combined_documents}\\n\"\n",
        "        f\"Augmented Response: '{augmented_response}'\\n\"\n",
        "    )\n",
        "    yield output\n",
        "\n",
        "if __name__ == \"__main__\":\n",
        "    model = SentenceTransformer('bert-base-multilingual-cased')\n",
        "    file_path = \"/content/Kannada_RAG_practise.txt\"\n",
        "    text_data = read_text_file(file_path)\n",
        "    vectors = vectorize_text(text_data, model)\n",
        "    faiss_index = create_faiss_index(vectors)\n",
        "    query_text = input(\"Enter a query text in Kannada: \")\n",
        "    query_vector = vectorize_text([query_text], model)\n",
        "    required_dim = vectors.shape[1]\n",
        "    query_vector_adjusted = adjust_query_vector(query_vector, required_dim)\n",
        "    k = 5\n",
        "    start_time = time.time()\n",
        "    retrieved_docs_batch = retrieve_documents_batch(faiss_index, query_vector_adjusted, k, text_data)\n",
        "    print(\"\\nGenerated augmented response:\")\n",
        "    for augmented_output in generate_augmented_output(query_text, retrieved_docs_batch):\n",
        "        print(augmented_output)\n",
        "    end_time = time.time()\n",
        "    print(f\"\\nTime taken for retrieval and generation: {end_time - start_time:.4f} seconds\")\n"
      ]
    },
    {
      "cell_type": "code",
      "source": [],
      "metadata": {
        "id": "LFA0V6bkXDlL"
      },
      "execution_count": null,
      "outputs": []
    }
  ]
}