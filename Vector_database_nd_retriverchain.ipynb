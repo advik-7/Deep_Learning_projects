{
  "nbformat": 4,
  "nbformat_minor": 0,
  "metadata": {
    "colab": {
      "provenance": [],
      "gpuType": "T4",
      "authorship_tag": "ABX9TyPtfDRt4qizdnLX53PYwLfP",
      "include_colab_link": true
    },
    "kernelspec": {
      "name": "python3",
      "display_name": "Python 3"
    },
    "language_info": {
      "name": "python"
    },
    "accelerator": "GPU"
  },
  "cells": [
    {
      "cell_type": "markdown",
      "metadata": {
        "id": "view-in-github",
        "colab_type": "text"
      },
      "source": [
        "<a href=\"https://colab.research.google.com/github/advik-7/Deep_Learning_projects/blob/main/Vector_database_nd_retriverchain.ipynb\" target=\"_parent\"><img src=\"https://colab.research.google.com/assets/colab-badge.svg\" alt=\"Open In Colab\"/></a>"
      ]
    },
    {
      "cell_type": "code",
      "source": [
        "!pip install faiss-gpu"
      ],
      "metadata": {
        "colab": {
          "base_uri": "https://localhost:8080/"
        },
        "id": "l86SR_QQZw1P",
        "outputId": "d1e76a97-db28-4c6a-9a0b-7a6227e1f4c0"
      },
      "execution_count": 1,
      "outputs": [
        {
          "output_type": "stream",
          "name": "stdout",
          "text": [
            "Collecting faiss-gpu\n",
            "  Downloading faiss_gpu-1.7.2-cp310-cp310-manylinux_2_17_x86_64.manylinux2014_x86_64.whl.metadata (1.4 kB)\n",
            "Downloading faiss_gpu-1.7.2-cp310-cp310-manylinux_2_17_x86_64.manylinux2014_x86_64.whl (85.5 MB)\n",
            "\u001b[2K   \u001b[90m━━━━━━━━━━━━━━━━━━━━━━━━━━━━━━━━━━━━━━━━\u001b[0m \u001b[32m85.5/85.5 MB\u001b[0m \u001b[31m9.4 MB/s\u001b[0m eta \u001b[36m0:00:00\u001b[0m\n",
            "\u001b[?25hInstalling collected packages: faiss-gpu\n",
            "Successfully installed faiss-gpu-1.7.2\n"
          ]
        }
      ]
    },
    {
      "cell_type": "code",
      "source": [
        "import faiss\n",
        "import numpy as np\n",
        "import time\n",
        "from sklearn.feature_extraction.text import TfidfVectorizer\n"
      ],
      "metadata": {
        "id": "jzW6go6uakxd"
      },
      "execution_count": 2,
      "outputs": []
    },
    {
      "cell_type": "code",
      "source": [
        "\n",
        "\n",
        "def create_faiss_index(vectors):\n",
        "    d = vectors.shape[1]\n",
        "    index = faiss.IndexFlatL2(d)\n",
        "    index.add(np.array(vectors, dtype=np.float32))\n",
        "    return index"
      ],
      "metadata": {
        "id": "z-F0DGiha11I"
      },
      "execution_count": 22,
      "outputs": []
    },
    {
      "cell_type": "code",
      "source": [
        "import faiss\n",
        "import numpy as np\n",
        "import time\n",
        "from sentence_transformers import SentenceTransformer\n",
        "\n",
        "def read_text_file(file_path):\n",
        "    with open(file_path, 'r') as file:\n",
        "        return file.readlines()\n",
        "\n",
        "def vectorize_text(text_data, model):\n",
        "    return model.encode(text_data, convert_to_numpy=True)\n",
        "\n",
        "\n",
        "def adjust_query_vector(query_vector, required_dim):\n",
        "    current_dim = query_vector.shape[1]\n",
        "    if current_dim == required_dim:\n",
        "        return query_vector\n",
        "    elif current_dim < required_dim:\n",
        "        padding = np.zeros((query_vector.shape[0], required_dim - current_dim), dtype=np.float32)\n",
        "        return np.hstack((query_vector, padding))\n",
        "    else:\n",
        "        return query_vector[:, :required_dim]\n",
        "def query_faiss_index(index, query_vector, k):\n",
        "    query_vector = np.array(query_vector, dtype=np.float32)\n",
        "    if query_vector.ndim == 1:\n",
        "        query_vector = query_vector.reshape(1, -1)\n",
        "    distances, indices = index.search(query_vector, k)\n",
        "    return distances, indices\n",
        "\n",
        "if __name__ == \"__main__\":\n",
        "    model = SentenceTransformer('paraphrase-MiniLM-L6-v2')\n",
        "    file_path = \"/content/practisedefce3v.txt\"\n",
        "    text_data = read_text_file(file_path)\n",
        "\n",
        "    vectors = vectorize_text(text_data, model)\n",
        "\n",
        "    faiss_index = create_faiss_index(vectors)\n",
        "    query_text = input(\"Enter a query text: \")\n",
        "    query_vector = vectorize_text([query_text], model)\n",
        "\n",
        "    required_dim = vectors.shape[1]\n",
        "    query_vector_adjusted = adjust_query_vector(query_vector, required_dim)\n",
        "\n",
        "    k = 5  # Number of nearest neighbors to retrieve\n",
        "    start_time = time.time()  # Start timing the search\n",
        "\n",
        "    distances, indices = query_faiss_index(faiss_index, query_vector_adjusted, k)\n",
        "\n",
        "    # End timing the search process\n",
        "    end_time = time.time()\n",
        "\n",
        "    print(\"Indices of nearest neighbors:\", indices)\n",
        "    print(\"Distances of nearest neighbors:\", distances)\n",
        "\n",
        "    print(f\"Time taken for retrieval: {end_time - start_time:.4f} seconds\")\n",
        "\n",
        "    print(\"\\nRetrieved nearest neighbors:\")\n",
        "    for idx in indices[0]:\n",
        "        print(f\"- {text_data[idx].strip()}\")\n"
      ],
      "metadata": {
        "colab": {
          "base_uri": "https://localhost:8080/"
        },
        "id": "ANOJEnWqchae",
        "outputId": "aab2b6a6-749b-4486-aa8e-d1fd7df44b1a"
      },
      "execution_count": 29,
      "outputs": [
        {
          "output_type": "stream",
          "name": "stdout",
          "text": [
            "Enter a query text: cats\n",
            "Indices of nearest neighbors: [[10 14 11 12 19]]\n",
            "Distances of nearest neighbors: [[ 5.7380977 39.493248  42.1793    42.25738   43.512363 ]]\n",
            "Time taken for retrieval: 0.0001 seconds\n",
            "\n",
            "Retrieved nearest neighbors:\n",
            "- Cats:\n",
            "- Cats are expert hunters, often catching small animals like mice and birds.\n",
            "- Cats are graceful animals that are known for their agility and speed.\n",
            "- Domestic cats are often kept as pets due to their independent nature.\n",
            "- Cats have excellent night vision, allowing them to hunt in low-light conditions.\n"
          ]
        }
      ]
    },
    {
      "cell_type": "code",
      "source": [],
      "metadata": {
        "id": "awHr5-H0dbIS"
      },
      "execution_count": null,
      "outputs": []
    }
  ]
}